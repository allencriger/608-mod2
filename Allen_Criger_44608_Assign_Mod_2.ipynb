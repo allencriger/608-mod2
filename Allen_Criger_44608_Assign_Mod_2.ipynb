{
 "cells": [
  {
   "cell_type": "markdown",
   "id": "ba4c3707-2d5a-47f0-9434-70ba46356aa7",
   "metadata": {
    "tags": []
   },
   "source": [
    "# Allen Criger - Assignment 2 - Module 2"
   ]
  },
  {
   "cell_type": "markdown",
   "id": "a1c5ceb1-4743-4cb6-9535-f3e07fe6875e",
   "metadata": {},
   "source": [
    "  Self Check - 3.3 Pseudocode"
   ]
  },
  {
   "cell_type": "code",
   "execution_count": 1,
   "id": "51629f5e-4e90-4ace-ae08-0a05c3a89cbe",
   "metadata": {},
   "outputs": [
    {
     "name": "stdout",
     "output_type": "stream",
     "text": [
      "Write Python Statements that perform the tasks desscribed by this sections pseudocode.  Enter 10 and 5.\n"
     ]
    }
   ],
   "source": [
    "print('Write Python Statements that perform the tasks desscribed by this sections pseudocode.  Enter 10 and 5.')"
   ]
  },
  {
   "cell_type": "code",
   "execution_count": 2,
   "id": "b91ec9c2-b6b8-4dbd-bbc3-dc56e04e4b44",
   "metadata": {},
   "outputs": [
    {
     "name": "stdin",
     "output_type": "stream",
     "text": [
      "Enter first integer: 10\n"
     ]
    }
   ],
   "source": [
    "number1 = int(input('Enter first integer:'))"
   ]
  },
  {
   "cell_type": "code",
   "execution_count": 3,
   "id": "c210353d-4a7b-40bc-ae94-d98f43d22406",
   "metadata": {},
   "outputs": [
    {
     "name": "stdin",
     "output_type": "stream",
     "text": [
      "Enter second integer: 5\n"
     ]
    }
   ],
   "source": [
    "number2 = int(input('Enter second integer:'))"
   ]
  },
  {
   "cell_type": "code",
   "execution_count": 4,
   "id": "9c9fb5d1-6850-4639-88e4-bbbe8d4d0fad",
   "metadata": {},
   "outputs": [],
   "source": [
    "total = number1+number2"
   ]
  },
  {
   "cell_type": "code",
   "execution_count": 5,
   "id": "380815d7-da56-407d-8995-16088af731b8",
   "metadata": {},
   "outputs": [
    {
     "name": "stdout",
     "output_type": "stream",
     "text": [
      "The sum of 10 and 5 is 15\n"
     ]
    }
   ],
   "source": [
    "print('The sum of', number1, 'and', number2, 'is', total)"
   ]
  },
  {
   "cell_type": "markdown",
   "id": "7a3c4b1c-8099-4b2f-af6f-4d79f6d6588d",
   "metadata": {
    "tags": []
   },
   "source": [
    "  Self Check - 3.5 If Statement"
   ]
  },
  {
   "cell_type": "code",
   "execution_count": 6,
   "id": "1fd9dfe4-67af-4a3b-a33e-89e707538476",
   "metadata": {},
   "outputs": [],
   "source": [
    "grade = 85"
   ]
  },
  {
   "cell_type": "code",
   "execution_count": 7,
   "id": "cac95e46-ff66-4b81-81d3-a894ba996948",
   "metadata": {},
   "outputs": [
    {
     "name": "stdout",
     "output_type": "stream",
     "text": [
      "Passed\n"
     ]
    }
   ],
   "source": [
    "if grade >= 60:\n",
    "    print('Passed')\n",
    "    "
   ]
  },
  {
   "cell_type": "code",
   "execution_count": 8,
   "id": "272e40fd-cea5-4869-ac4f-ee31dd65a222",
   "metadata": {},
   "outputs": [],
   "source": [
    "grade = 55"
   ]
  },
  {
   "cell_type": "code",
   "execution_count": 9,
   "id": "f2e6e9d2-c371-43ad-a74d-f25e3b889f3f",
   "metadata": {},
   "outputs": [],
   "source": [
    "if grade >= 60:\n",
    "    print('Passed')"
   ]
  },
  {
   "cell_type": "markdown",
   "id": "b7b1ddce-9d2a-442f-a558-1e3e643de3b8",
   "metadata": {},
   "source": [
    "  3.6 - if...else and if...elif...else Statements"
   ]
  },
  {
   "cell_type": "code",
   "execution_count": 10,
   "id": "4e131e6e-bc76-4ad7-85ad-57755c0bed9a",
   "metadata": {},
   "outputs": [],
   "source": [
    "grade = 85"
   ]
  },
  {
   "cell_type": "code",
   "execution_count": 11,
   "id": "c7ad5e7f-d29e-463e-bbbc-18653e0243ac",
   "metadata": {},
   "outputs": [
    {
     "name": "stdout",
     "output_type": "stream",
     "text": [
      "Passed\n"
     ]
    }
   ],
   "source": [
    "if grade >= 60:\n",
    "    print('Passed')\n",
    "else:\n",
    "    print('Failed')"
   ]
  },
  {
   "cell_type": "code",
   "execution_count": 12,
   "id": "3b7faac7-6414-493e-a140-12364acf09be",
   "metadata": {},
   "outputs": [],
   "source": [
    "grade = 57"
   ]
  },
  {
   "cell_type": "code",
   "execution_count": 13,
   "id": "65fc34bb-551f-4b5a-a54d-4161f41bb072",
   "metadata": {},
   "outputs": [
    {
     "name": "stdout",
     "output_type": "stream",
     "text": [
      "Failed\n"
     ]
    }
   ],
   "source": [
    "if grade >= 60:\n",
    "    print('Passed')\n",
    "else:\n",
    "    print('Failed')"
   ]
  },
  {
   "cell_type": "code",
   "execution_count": 14,
   "id": "ab98b8f5-146d-4772-bbe2-96a6558f0d3f",
   "metadata": {},
   "outputs": [],
   "source": [
    "grade = 99"
   ]
  },
  {
   "cell_type": "code",
   "execution_count": 15,
   "id": "0bb89f3e-f4a2-4956-ae02-73ed7e5b6fe3",
   "metadata": {},
   "outputs": [
    {
     "name": "stdout",
     "output_type": "stream",
     "text": [
      "Passed\n"
     ]
    }
   ],
   "source": [
    "if grade >= 60:\n",
    "    print('Passed')\n",
    "else:\n",
    "    print('Failed')"
   ]
  },
  {
   "cell_type": "markdown",
   "id": "ae5406aa-d7d6-4d95-afe4-b07e15a22090",
   "metadata": {},
   "source": [
    "     Conditional Expressions"
   ]
  },
  {
   "cell_type": "code",
   "execution_count": 16,
   "id": "bf52fbb2-4d41-4401-9de9-b88cdd93f11e",
   "metadata": {},
   "outputs": [],
   "source": [
    "grade = 87"
   ]
  },
  {
   "cell_type": "code",
   "execution_count": 17,
   "id": "d1fe750b-6169-4cf3-b0a8-c9471d91b62a",
   "metadata": {},
   "outputs": [],
   "source": [
    "if grade >= 60:\n",
    "    result = 'Passed'\n",
    "else:\n",
    "    result = 'Failed'\n",
    "    "
   ]
  },
  {
   "cell_type": "code",
   "execution_count": 18,
   "id": "f46b56a7-1709-480f-bfec-2e9f0602884c",
   "metadata": {},
   "outputs": [
    {
     "data": {
      "text/plain": [
       "'Passed'"
      ]
     },
     "execution_count": 18,
     "metadata": {},
     "output_type": "execute_result"
    }
   ],
   "source": [
    "result"
   ]
  },
  {
   "cell_type": "code",
   "execution_count": 19,
   "id": "043abb0a-2e3d-4151-873b-b28c497125d5",
   "metadata": {},
   "outputs": [],
   "source": [
    "result = ('Passed' if grade >=60 else 'failed')"
   ]
  },
  {
   "cell_type": "code",
   "execution_count": 20,
   "id": "ac1e8fd7-2247-4e3d-b727-e50b055abcca",
   "metadata": {},
   "outputs": [
    {
     "data": {
      "text/plain": [
       "'Passed'"
      ]
     },
     "execution_count": 20,
     "metadata": {},
     "output_type": "execute_result"
    }
   ],
   "source": [
    "result"
   ]
  },
  {
   "cell_type": "markdown",
   "id": "89516a82-0d6d-4d41-8e1c-dc76653a3f71",
   "metadata": {},
   "source": [
    "    Multiple Statements in a Suite"
   ]
  },
  {
   "cell_type": "code",
   "execution_count": 21,
   "id": "5eeb5265-a40e-4865-adb5-f3352b9faee9",
   "metadata": {},
   "outputs": [],
   "source": [
    "grade = 49"
   ]
  },
  {
   "cell_type": "code",
   "execution_count": 22,
   "id": "37cdbd49-01c1-402d-8f49-f5f417dc370d",
   "metadata": {},
   "outputs": [
    {
     "name": "stdout",
     "output_type": "stream",
     "text": [
      "Failed\n",
      "You must take this course again\n"
     ]
    }
   ],
   "source": [
    "if grade >=60:\n",
    "    print('Passed')\n",
    "else:\n",
    "    print('Failed')\n",
    "    print('You must take this course again')"
   ]
  },
  {
   "cell_type": "code",
   "execution_count": 23,
   "id": "2d759ee3-48b1-4601-9ec5-208128dbd7a5",
   "metadata": {},
   "outputs": [],
   "source": [
    "grade = 100"
   ]
  },
  {
   "cell_type": "code",
   "execution_count": 24,
   "id": "ccc63ea6-9d7c-4c55-9bde-228cb8264872",
   "metadata": {},
   "outputs": [
    {
     "name": "stdout",
     "output_type": "stream",
     "text": [
      "Passed\n",
      "You must take this course again\n"
     ]
    }
   ],
   "source": [
    "if grade >=60:\n",
    "    print('Passed')\n",
    "else:\n",
    "    print('Failed')\n",
    "print('You must take this course again') # This doesn't make sense as the book was demonstrating - indenting is important"
   ]
  },
  {
   "cell_type": "code",
   "execution_count": 25,
   "id": "777ac22b-75fd-4e7d-87a9-79926419d329",
   "metadata": {},
   "outputs": [],
   "source": [
    "grade = 77"
   ]
  },
  {
   "cell_type": "code",
   "execution_count": 26,
   "id": "9d217cf0-2971-46b6-a3de-707b88820f11",
   "metadata": {},
   "outputs": [
    {
     "name": "stdout",
     "output_type": "stream",
     "text": [
      "C\n"
     ]
    }
   ],
   "source": [
    "if grade >= 90:\n",
    "    print('A')\n",
    "elif grade >= 80:\n",
    "    print('B')\n",
    "elif grade >= 70:\n",
    "    print('C')\n",
    "elif grade >= 60:\n",
    "    print('D')\n",
    "else:\n",
    "    print('F')"
   ]
  },
  {
   "cell_type": "markdown",
   "id": "95d7d673-d18f-442b-a29e-cc8364dee5ae",
   "metadata": {},
   "source": [
    "Self Check - 3.6 of... else and if...elif...else statements"
   ]
  },
  {
   "cell_type": "markdown",
   "id": "6a9df629-8377-4a54-9097-fde6e3c7b8b1",
   "metadata": {},
   "source": [
    "grade = 80"
   ]
  },
  {
   "cell_type": "markdown",
   "id": "2c2d78e9-648a-4529-b9e9-cd6be6c23daa",
   "metadata": {},
   "source": [
    "if grade >= 90:\n",
    "    print('A')\n",
    "else:\n",
    "    print('Not A or B')\n",
    "elif grade >= 80:  # This produces the syntax error when you put the else before the elif (shown as markdown so entire notebook would run)"
   ]
  },
  {
   "cell_type": "markdown",
   "id": "8f486b51-5a66-409b-baa9-2ca61d184b5a",
   "metadata": {},
   "source": [
    "3.7 while statement"
   ]
  },
  {
   "cell_type": "code",
   "execution_count": 27,
   "id": "ea163e36-7d50-4cf2-8364-26ede338d4ad",
   "metadata": {},
   "outputs": [],
   "source": [
    "product = 3"
   ]
  },
  {
   "cell_type": "code",
   "execution_count": 28,
   "id": "47b23d61-35b9-4a18-91b1-2e9b7cb51a00",
   "metadata": {},
   "outputs": [],
   "source": [
    "while product <= 50:\n",
    "    product = product * 3\n",
    "        "
   ]
  },
  {
   "cell_type": "code",
   "execution_count": 29,
   "id": "ea0df5bf-08cc-4f7f-a778-5199d432b39d",
   "metadata": {},
   "outputs": [
    {
     "data": {
      "text/plain": [
       "81"
      ]
     },
     "execution_count": 29,
     "metadata": {},
     "output_type": "execute_result"
    }
   ],
   "source": [
    "product"
   ]
  },
  {
   "cell_type": "code",
   "execution_count": 30,
   "id": "2cea7504-46ae-40ed-88ee-deac012374fa",
   "metadata": {},
   "outputs": [],
   "source": [
    "product = 7"
   ]
  },
  {
   "cell_type": "code",
   "execution_count": 31,
   "id": "8c6b4bc7-5ed1-4056-8f97-fd9df5c257ed",
   "metadata": {},
   "outputs": [],
   "source": [
    "while product <=1000:\n",
    "    product = product * 7"
   ]
  },
  {
   "cell_type": "code",
   "execution_count": 32,
   "id": "3303e837-216a-4a77-88e4-8c533b415eda",
   "metadata": {},
   "outputs": [
    {
     "data": {
      "text/plain": [
       "2401"
      ]
     },
     "execution_count": 32,
     "metadata": {},
     "output_type": "execute_result"
    }
   ],
   "source": [
    "product"
   ]
  },
  {
   "cell_type": "markdown",
   "id": "43c5d9bb-4cc1-48da-a111-d2371d3f1a76",
   "metadata": {},
   "source": [
    "3.8 for statement"
   ]
  },
  {
   "cell_type": "code",
   "execution_count": 33,
   "id": "228af170-999c-41bb-b000-ccbcad8207dc",
   "metadata": {},
   "outputs": [
    {
     "name": "stdout",
     "output_type": "stream",
     "text": [
      "P r o g r a m m i n g "
     ]
    }
   ],
   "source": [
    "for character in 'Programming':\n",
    "    print(character, end=' ')"
   ]
  },
  {
   "cell_type": "code",
   "execution_count": 34,
   "id": "a7ae0129-41ce-40e7-89cf-908469e91d5a",
   "metadata": {},
   "outputs": [
    {
     "name": "stdout",
     "output_type": "stream",
     "text": [
      "10, 20, 30\n"
     ]
    }
   ],
   "source": [
    "print(10, 20, 30, sep=', ')"
   ]
  },
  {
   "cell_type": "code",
   "execution_count": 35,
   "id": "49d0e845-6000-44a4-861f-25d4b0aff3bd",
   "metadata": {},
   "outputs": [
    {
     "name": "stdout",
     "output_type": "stream",
     "text": [
      "10,20,30\n"
     ]
    }
   ],
   "source": [
    "print(10, 20, 30, sep=',')"
   ]
  },
  {
   "cell_type": "markdown",
   "id": "9df38f33-8863-44ff-bd69-ffe3d2aec104",
   "metadata": {},
   "source": [
    "3.8.1 - Iterables, Lists, and Iterators"
   ]
  },
  {
   "cell_type": "code",
   "execution_count": 36,
   "id": "f6efd9b7-b0f1-43bb-acdd-be8261e96361",
   "metadata": {},
   "outputs": [],
   "source": [
    "total = 0"
   ]
  },
  {
   "cell_type": "code",
   "execution_count": 37,
   "id": "1a9c9d7d-1150-4df9-a671-ce37a28cd54e",
   "metadata": {},
   "outputs": [],
   "source": [
    "for number in [2, -3, 0, 17, 9]:\n",
    "    total = total + number"
   ]
  },
  {
   "cell_type": "code",
   "execution_count": 38,
   "id": "80941cf1-fcb9-4185-bb9a-3a3da272f760",
   "metadata": {},
   "outputs": [
    {
     "data": {
      "text/plain": [
       "25"
      ]
     },
     "execution_count": 38,
     "metadata": {},
     "output_type": "execute_result"
    }
   ],
   "source": [
    "total"
   ]
  },
  {
   "cell_type": "markdown",
   "id": "77a022d3-0aed-4b67-82f8-c7458f2e490c",
   "metadata": {},
   "source": [
    "3.8.2 - Built-In range Function"
   ]
  },
  {
   "cell_type": "code",
   "execution_count": 39,
   "id": "23aaf369-d11d-46b0-85e5-f200b9d4066c",
   "metadata": {},
   "outputs": [
    {
     "name": "stdout",
     "output_type": "stream",
     "text": [
      "0 1 2 3 4 5 6 7 8 9 "
     ]
    }
   ],
   "source": [
    "for counter in range(10):\n",
    "    print(counter, end=' ')"
   ]
  },
  {
   "cell_type": "markdown",
   "id": "0eea859e-a395-4559-aea6-3725fb4d053d",
   "metadata": {},
   "source": [
    "Self Check - 3.8 - for Statement"
   ]
  },
  {
   "cell_type": "code",
   "execution_count": 40,
   "id": "c4f3b593-c13d-4e44-91c6-a12bf0fc6990",
   "metadata": {},
   "outputs": [],
   "source": [
    "total = 0"
   ]
  },
  {
   "cell_type": "code",
   "execution_count": 41,
   "id": "0c0ac500-94d7-42ab-b220-4389cb6e9194",
   "metadata": {},
   "outputs": [],
   "source": [
    "for number in range(1000001):\n",
    "    total = total + number    # use 1000001 to avoid the off-by-one logic error"
   ]
  },
  {
   "cell_type": "code",
   "execution_count": 42,
   "id": "f00119ab-e7a7-4031-b3dc-3f7a7f23cdad",
   "metadata": {},
   "outputs": [
    {
     "data": {
      "text/plain": [
       "500000500000"
      ]
     },
     "execution_count": 42,
     "metadata": {},
     "output_type": "execute_result"
    }
   ],
   "source": [
    "total"
   ]
  },
  {
   "cell_type": "markdown",
   "id": "e4ffad59-fb23-4005-b209-bdb4f6ec8b11",
   "metadata": {},
   "source": [
    "3.9 Augmented Assignments"
   ]
  },
  {
   "cell_type": "code",
   "execution_count": 43,
   "id": "e260ebe5-5c07-40c7-9cca-cdb89f09692b",
   "metadata": {},
   "outputs": [],
   "source": [
    "total = 0"
   ]
  },
  {
   "cell_type": "code",
   "execution_count": 44,
   "id": "56f2712b-3221-4d2e-955d-c90311000e81",
   "metadata": {},
   "outputs": [],
   "source": [
    "for number in [1, 2, 3, 4, 5]:\n",
    "    total += number"
   ]
  },
  {
   "cell_type": "code",
   "execution_count": 45,
   "id": "ba66236e-9ac8-4467-be73-46afc3a16352",
   "metadata": {},
   "outputs": [
    {
     "data": {
      "text/plain": [
       "15"
      ]
     },
     "execution_count": 45,
     "metadata": {},
     "output_type": "execute_result"
    }
   ],
   "source": [
    "total"
   ]
  },
  {
   "cell_type": "markdown",
   "id": "7f0973e4-2fc2-433f-b168-8a43dc1ce137",
   "metadata": {},
   "source": [
    "Self Check 3.9 - Augmented Assignments"
   ]
  },
  {
   "cell_type": "code",
   "execution_count": 46,
   "id": "51c7db03-db38-433a-bcb5-962fca31692a",
   "metadata": {},
   "outputs": [],
   "source": [
    "x = 7"
   ]
  },
  {
   "cell_type": "code",
   "execution_count": 47,
   "id": "e066c817-72ce-45d1-8499-b4dce4658c01",
   "metadata": {},
   "outputs": [],
   "source": [
    "x *= 5"
   ]
  },
  {
   "cell_type": "code",
   "execution_count": 48,
   "id": "e8271c41-f63a-480c-b323-abdfa2c5fd56",
   "metadata": {},
   "outputs": [
    {
     "data": {
      "text/plain": [
       "35"
      ]
     },
     "execution_count": 48,
     "metadata": {},
     "output_type": "execute_result"
    }
   ],
   "source": [
    "x"
   ]
  },
  {
   "cell_type": "code",
   "execution_count": 49,
   "id": "8970b0ec-d8e8-490b-995b-29613f0048e0",
   "metadata": {},
   "outputs": [],
   "source": [
    "x = 12"
   ]
  },
  {
   "cell_type": "code",
   "execution_count": 50,
   "id": "2319b21e-de2d-4d60-b28b-dab14060afc6",
   "metadata": {},
   "outputs": [],
   "source": [
    "x **= 2"
   ]
  },
  {
   "cell_type": "code",
   "execution_count": 51,
   "id": "c5481c3f-433b-45c0-88fe-73587f8103be",
   "metadata": {},
   "outputs": [
    {
     "data": {
      "text/plain": [
       "144"
      ]
     },
     "execution_count": 51,
     "metadata": {},
     "output_type": "execute_result"
    }
   ],
   "source": [
    "x"
   ]
  },
  {
   "cell_type": "markdown",
   "id": "535e2b82-40b9-4b15-bf4e-f3a652717608",
   "metadata": {},
   "source": [
    "3.10 - Program Development: Sequence-Controlled Repetition"
   ]
  },
  {
   "cell_type": "markdown",
   "id": "9fd69bc6-028d-4625-8883-b64ed3f0d3c3",
   "metadata": {},
   "source": [
    "3.10.3 Coding the Algorithm in Python"
   ]
  },
  {
   "cell_type": "code",
   "execution_count": 52,
   "id": "602aee50-c559-41f7-8fc3-c4060c4d6b58",
   "metadata": {},
   "outputs": [
    {
     "data": {
      "text/plain": [
       "'Class average program wiith sequence-controlled repetition.'"
      ]
     },
     "execution_count": 52,
     "metadata": {},
     "output_type": "execute_result"
    }
   ],
   "source": [
    "\"\"\"Class average program wiith sequence-controlled repetition.\"\"\""
   ]
  },
  {
   "cell_type": "code",
   "execution_count": 53,
   "id": "f80cee55-9d05-4885-866d-2d25b78e0227",
   "metadata": {},
   "outputs": [],
   "source": [
    "total = 0"
   ]
  },
  {
   "cell_type": "code",
   "execution_count": 54,
   "id": "0ce5393b-7609-4570-80d5-67b8ddf726c7",
   "metadata": {},
   "outputs": [],
   "source": [
    "grade_counter = 0"
   ]
  },
  {
   "cell_type": "code",
   "execution_count": 55,
   "id": "b60d6f7b-2934-4241-9818-0de088f84aa3",
   "metadata": {},
   "outputs": [],
   "source": [
    "grades = [98, 76, 71, 87, 83, 90, 57, 79, 82, 94]"
   ]
  },
  {
   "cell_type": "code",
   "execution_count": 56,
   "id": "ef823553-0b12-4988-a40c-8a427d08f091",
   "metadata": {},
   "outputs": [],
   "source": [
    "for grade in grades:\n",
    "    total += grade\n",
    "    grade_counter += 1"
   ]
  },
  {
   "cell_type": "code",
   "execution_count": 57,
   "id": "623726ab-b06b-4766-a4b5-53903453788a",
   "metadata": {},
   "outputs": [],
   "source": [
    "average = total / grade_counter"
   ]
  },
  {
   "cell_type": "code",
   "execution_count": 58,
   "id": "d23f7b3c-e6e8-4a06-9279-d392c154374e",
   "metadata": {},
   "outputs": [
    {
     "name": "stdout",
     "output_type": "stream",
     "text": [
      "Class average is 81.7\n"
     ]
    }
   ],
   "source": [
    "print(f'Class average is {average}')"
   ]
  },
  {
   "cell_type": "markdown",
   "id": "53ecf4d0-4650-4dc1-96c7-9281d143d099",
   "metadata": {},
   "source": [
    "Self Check 3.10"
   ]
  },
  {
   "cell_type": "code",
   "execution_count": 59,
   "id": "1e859c6d-fefa-4ae9-9ca0-85479874c23e",
   "metadata": {},
   "outputs": [],
   "source": [
    "number1 = 7"
   ]
  },
  {
   "cell_type": "code",
   "execution_count": 60,
   "id": "d83dc77f-ed8d-4010-88e4-b7736d0f6e1e",
   "metadata": {},
   "outputs": [],
   "source": [
    "number2 = 5"
   ]
  },
  {
   "cell_type": "code",
   "execution_count": 61,
   "id": "63f53e9a-2f3e-4781-aec0-fc45cb712338",
   "metadata": {},
   "outputs": [
    {
     "name": "stdout",
     "output_type": "stream",
     "text": [
      "7 times 5 is 35\n"
     ]
    }
   ],
   "source": [
    "print(f'{number1} times {number2} is {number1 * number2}')"
   ]
  },
  {
   "cell_type": "markdown",
   "id": "5f1f3453-286c-4765-af15-d363b8ddb078",
   "metadata": {},
   "source": [
    "Self Check - 3.12"
   ]
  },
  {
   "cell_type": "markdown",
   "id": "5a536755-43b2-4985-9df3-78b88000ad63",
   "metadata": {},
   "source": [
    "for count in range (2):\n",
    "    value =int(input('Enter an integer: '))\n",
    "    if value % 2 == 0:\n",
    "        print(f'{value} is even')\n",
    "    else:\n",
    "        print(f'{value} is odd')"
   ]
  },
  {
   "cell_type": "markdown",
   "id": "21521041-832d-4f49-91fc-67ebb2df6be2",
   "metadata": {},
   "source": [
    "3.13 - Built-In Function range: A deeper look"
   ]
  },
  {
   "cell_type": "code",
   "execution_count": 62,
   "id": "6791cc39-eef1-459e-960b-85b8acfd5364",
   "metadata": {},
   "outputs": [
    {
     "name": "stdout",
     "output_type": "stream",
     "text": [
      "5 6 7 8 9 "
     ]
    }
   ],
   "source": [
    "for number in range(5, 10):\n",
    "    print(number, end=' ')"
   ]
  },
  {
   "cell_type": "code",
   "execution_count": 63,
   "id": "b11555e6-cab4-45c3-b264-257e099c5c56",
   "metadata": {},
   "outputs": [
    {
     "name": "stdout",
     "output_type": "stream",
     "text": [
      "0 2 4 6 8 "
     ]
    }
   ],
   "source": [
    "for number in range(0, 10, 2):\n",
    "    print(number, end=' ')"
   ]
  },
  {
   "cell_type": "code",
   "execution_count": 64,
   "id": "00a131cf-f215-4efa-9100-aecbe46795fc",
   "metadata": {},
   "outputs": [
    {
     "name": "stdout",
     "output_type": "stream",
     "text": [
      "10 8 6 4 2 "
     ]
    }
   ],
   "source": [
    "for number in range(10, 0, -2):\n",
    "    print(number, end=' ')"
   ]
  },
  {
   "cell_type": "markdown",
   "id": "f578bd8c-a8e0-4abd-9679-399aa7958f16",
   "metadata": {},
   "source": [
    "Self Check 3.13"
   ]
  },
  {
   "cell_type": "code",
   "execution_count": 65,
   "id": "0f2a2e98-099f-4bf6-bbf7-8847aa615dc7",
   "metadata": {},
   "outputs": [],
   "source": [
    "for number in range(10,0,2):\n",
    "    print(number, end=' ')          #nothing processes because step is not negative"
   ]
  },
  {
   "cell_type": "code",
   "execution_count": 66,
   "id": "3c19d067-76c2-4b34-ad41-4a90b04ae6c4",
   "metadata": {},
   "outputs": [
    {
     "name": "stdout",
     "output_type": "stream",
     "text": [
      "99 88 77 66 55 44 33 22 11 0 "
     ]
    }
   ],
   "source": [
    "for number in range(99, -1, -11):\n",
    "    print(number, end=' ')"
   ]
  },
  {
   "cell_type": "code",
   "execution_count": 67,
   "id": "489f025c-15de-46ad-9fd2-c42baad70488",
   "metadata": {},
   "outputs": [],
   "source": [
    "total = 0"
   ]
  },
  {
   "cell_type": "code",
   "execution_count": 68,
   "id": "07399665-c1b8-45ad-8f6f-b9093572c4d9",
   "metadata": {},
   "outputs": [],
   "source": [
    "for number in range(2, 101, 2):\n",
    "    total += number"
   ]
  },
  {
   "cell_type": "code",
   "execution_count": 69,
   "id": "3b3f4030-1b71-46e0-9952-bedb6386d68a",
   "metadata": {},
   "outputs": [
    {
     "data": {
      "text/plain": [
       "2550"
      ]
     },
     "execution_count": 69,
     "metadata": {},
     "output_type": "execute_result"
    }
   ],
   "source": [
    "total"
   ]
  },
  {
   "cell_type": "markdown",
   "id": "5f3934d7-84f4-4fb1-9643-f4d2f31db210",
   "metadata": {},
   "source": [
    "3.15 - break and continue statements"
   ]
  },
  {
   "cell_type": "code",
   "execution_count": 70,
   "id": "4aba3ef9-5dbd-4658-a596-02d0e974315a",
   "metadata": {},
   "outputs": [
    {
     "name": "stdout",
     "output_type": "stream",
     "text": [
      "0 1 2 3 4 5 6 7 8 9 "
     ]
    }
   ],
   "source": [
    "for number in range(100):\n",
    "    if number == 10:\n",
    "        break\n",
    "    print(number, end=' ')"
   ]
  },
  {
   "cell_type": "code",
   "execution_count": 71,
   "id": "3f8f53ae-5654-413b-b797-d5b2da4b2295",
   "metadata": {},
   "outputs": [
    {
     "name": "stdout",
     "output_type": "stream",
     "text": [
      "0 1 2 3 4 6 7 8 9 "
     ]
    }
   ],
   "source": [
    "for number in range(10):\n",
    "    if number == 5:\n",
    "        continue\n",
    "    print(number, end=' ')"
   ]
  },
  {
   "cell_type": "markdown",
   "id": "c61b003a-a34d-4542-a2c7-92f1ccd2ad10",
   "metadata": {},
   "source": [
    "3.16 - Boolean Operators and, or and not"
   ]
  },
  {
   "cell_type": "code",
   "execution_count": 72,
   "id": "fc1ee57b-db98-4eef-aa66-11c9227245a4",
   "metadata": {},
   "outputs": [],
   "source": [
    "gender = 'Female'"
   ]
  },
  {
   "cell_type": "code",
   "execution_count": 73,
   "id": "c505a405-220c-40fb-b7ce-400e26b18cf5",
   "metadata": {},
   "outputs": [],
   "source": [
    "age = 70"
   ]
  },
  {
   "cell_type": "code",
   "execution_count": 74,
   "id": "75726ab4-eecf-4b2f-bd9f-598e24e1166c",
   "metadata": {},
   "outputs": [
    {
     "name": "stdout",
     "output_type": "stream",
     "text": [
      "Senior female\n"
     ]
    }
   ],
   "source": [
    "if gender == 'Female' and age >= 65:\n",
    "    print('Senior female')"
   ]
  },
  {
   "cell_type": "code",
   "execution_count": 75,
   "id": "84397458-2a32-4cad-b5b2-5894de790dbf",
   "metadata": {},
   "outputs": [],
   "source": [
    "semester_average = 83"
   ]
  },
  {
   "cell_type": "code",
   "execution_count": 76,
   "id": "19f82a52-790c-4706-beaf-552e56ecd699",
   "metadata": {},
   "outputs": [],
   "source": [
    "final_exam = 95"
   ]
  },
  {
   "cell_type": "code",
   "execution_count": 77,
   "id": "6d0ed916-3ee3-4364-ad78-be43e87ba5fb",
   "metadata": {},
   "outputs": [
    {
     "name": "stdout",
     "output_type": "stream",
     "text": [
      "Student gets an A\n"
     ]
    }
   ],
   "source": [
    "if semester_average >=90 or final_exam >= 90:\n",
    "    print('Student gets an A')"
   ]
  },
  {
   "cell_type": "code",
   "execution_count": 78,
   "id": "ce0205a5-2a91-4b50-8852-8ead4da5b4f8",
   "metadata": {},
   "outputs": [],
   "source": [
    "grade = 87"
   ]
  },
  {
   "cell_type": "code",
   "execution_count": 79,
   "id": "64e2df1c-468d-4f2a-a018-19e5e4247064",
   "metadata": {},
   "outputs": [
    {
     "name": "stdout",
     "output_type": "stream",
     "text": [
      "The next grade is 87\n"
     ]
    }
   ],
   "source": [
    "if not grade == -1:\n",
    "    print('The next grade is', grade)"
   ]
  },
  {
   "cell_type": "code",
   "execution_count": 80,
   "id": "1ae6720e-2032-45c4-a44e-f18c754f7336",
   "metadata": {},
   "outputs": [
    {
     "name": "stdout",
     "output_type": "stream",
     "text": [
      "The next grade is 87\n"
     ]
    }
   ],
   "source": [
    "if grade !=-1:\n",
    "    print('The next grade is', grade)"
   ]
  },
  {
   "cell_type": "markdown",
   "id": "835799c5-648d-47de-a8ec-e90fdf4c4f30",
   "metadata": {},
   "source": [
    "Self Check 3.16"
   ]
  },
  {
   "cell_type": "code",
   "execution_count": 81,
   "id": "ad739c71-33a3-4928-8287-eea281a956ff",
   "metadata": {},
   "outputs": [],
   "source": [
    "i = 1"
   ]
  },
  {
   "cell_type": "code",
   "execution_count": 82,
   "id": "7b1bf412-eb54-41c1-8df1-7f98f7b20914",
   "metadata": {},
   "outputs": [],
   "source": [
    "j = 2"
   ]
  },
  {
   "cell_type": "code",
   "execution_count": 83,
   "id": "1c120fe1-9be0-4467-a806-6462000f1470",
   "metadata": {},
   "outputs": [],
   "source": [
    "k = 3"
   ]
  },
  {
   "cell_type": "code",
   "execution_count": 84,
   "id": "1bc326a5-fb61-4371-87d4-3d31ebb23324",
   "metadata": {},
   "outputs": [],
   "source": [
    "m = 2"
   ]
  },
  {
   "cell_type": "code",
   "execution_count": 85,
   "id": "6175832f-c9b1-41b4-ae53-b04eb6d6cc09",
   "metadata": {},
   "outputs": [
    {
     "data": {
      "text/plain": [
       "True"
      ]
     },
     "execution_count": 85,
     "metadata": {},
     "output_type": "execute_result"
    }
   ],
   "source": [
    "(i >= 1) and (j < 4)"
   ]
  },
  {
   "cell_type": "code",
   "execution_count": 86,
   "id": "098485fc-8c80-4f98-9cf2-3405c9c091ea",
   "metadata": {},
   "outputs": [
    {
     "data": {
      "text/plain": [
       "False"
      ]
     },
     "execution_count": 86,
     "metadata": {},
     "output_type": "execute_result"
    }
   ],
   "source": [
    "(m <= 99) and (k < m)"
   ]
  },
  {
   "cell_type": "code",
   "execution_count": 87,
   "id": "09aff83c-7227-4275-945a-d981493af70f",
   "metadata": {},
   "outputs": [
    {
     "data": {
      "text/plain": [
       "True"
      ]
     },
     "execution_count": 87,
     "metadata": {},
     "output_type": "execute_result"
    }
   ],
   "source": [
    "(j >= i) or (k == m)"
   ]
  },
  {
   "cell_type": "code",
   "execution_count": 88,
   "id": "c427a937-3d66-4e56-aba3-19650da04a66",
   "metadata": {},
   "outputs": [
    {
     "data": {
      "text/plain": [
       "False"
      ]
     },
     "execution_count": 88,
     "metadata": {},
     "output_type": "execute_result"
    }
   ],
   "source": [
    "(k + m < j) or (3 - j >= k)"
   ]
  },
  {
   "cell_type": "code",
   "execution_count": 89,
   "id": "1f96b52b-4184-4fe9-9029-dd05ba55e953",
   "metadata": {},
   "outputs": [
    {
     "data": {
      "text/plain": [
       "False"
      ]
     },
     "execution_count": 89,
     "metadata": {},
     "output_type": "execute_result"
    }
   ],
   "source": [
    "not (k > m)"
   ]
  },
  {
   "cell_type": "markdown",
   "id": "7c17dfc6-ffa8-4495-8eb8-45d2b73e8651",
   "metadata": {},
   "source": [
    "3.17 -Intro to Data Science: Measures of Central Tendency - Mean, Median and Mode"
   ]
  },
  {
   "cell_type": "code",
   "execution_count": 90,
   "id": "ee99bb05-55ed-46df-8c3b-d12d687b81e0",
   "metadata": {},
   "outputs": [],
   "source": [
    "import statistics"
   ]
  },
  {
   "cell_type": "code",
   "execution_count": 91,
   "id": "555d3c9b-8438-4a68-aa71-dea2d4677d3d",
   "metadata": {},
   "outputs": [],
   "source": [
    "values = [47, 95, 88, 73, 88, 84]"
   ]
  },
  {
   "cell_type": "code",
   "execution_count": 92,
   "id": "8873d8f0-246a-4f7f-aaf8-261f0101716f",
   "metadata": {},
   "outputs": [
    {
     "data": {
      "text/plain": [
       "79.16666666666667"
      ]
     },
     "execution_count": 92,
     "metadata": {},
     "output_type": "execute_result"
    }
   ],
   "source": [
    "statistics.mean(values)"
   ]
  },
  {
   "cell_type": "code",
   "execution_count": 93,
   "id": "4366e4d4-bff0-40b8-b4ce-f344e422badd",
   "metadata": {},
   "outputs": [
    {
     "data": {
      "text/plain": [
       "86.0"
      ]
     },
     "execution_count": 93,
     "metadata": {},
     "output_type": "execute_result"
    }
   ],
   "source": [
    "statistics.median(values)"
   ]
  },
  {
   "cell_type": "code",
   "execution_count": 94,
   "id": "a5905644-f497-4112-8882-29a31617b883",
   "metadata": {},
   "outputs": [
    {
     "data": {
      "text/plain": [
       "88"
      ]
     },
     "execution_count": 94,
     "metadata": {},
     "output_type": "execute_result"
    }
   ],
   "source": [
    "statistics.mode(values)"
   ]
  },
  {
   "cell_type": "markdown",
   "id": "444b9563-bcaa-495e-b21b-a36749883849",
   "metadata": {},
   "source": [
    "Assignment Section 6 - Calculate Measures of Central Tendency - Native Python"
   ]
  },
  {
   "cell_type": "code",
   "execution_count": 95,
   "id": "0897718a-1854-4934-a5f4-901ebd9fca3d",
   "metadata": {},
   "outputs": [],
   "source": [
    "values = [47, 95, 88, 73, 88, 84]"
   ]
  },
  {
   "cell_type": "code",
   "execution_count": 96,
   "id": "c9add3a4-1d2f-484f-a75c-dbcb9a43d082",
   "metadata": {},
   "outputs": [
    {
     "data": {
      "text/plain": [
       "6"
      ]
     },
     "execution_count": 96,
     "metadata": {},
     "output_type": "execute_result"
    }
   ],
   "source": [
    "len(values)"
   ]
  },
  {
   "cell_type": "code",
   "execution_count": 97,
   "id": "acaf85c3-1255-4dcd-a70c-fda10d3e19ed",
   "metadata": {},
   "outputs": [
    {
     "data": {
      "text/plain": [
       "475"
      ]
     },
     "execution_count": 97,
     "metadata": {},
     "output_type": "execute_result"
    }
   ],
   "source": [
    "sum(values)"
   ]
  },
  {
   "cell_type": "code",
   "execution_count": 98,
   "id": "192793c4-96df-4d80-8cc8-e1135a428467",
   "metadata": {},
   "outputs": [
    {
     "data": {
      "text/plain": [
       "79.16666666666667"
      ]
     },
     "execution_count": 98,
     "metadata": {},
     "output_type": "execute_result"
    }
   ],
   "source": [
    "sum(values) / len(values)"
   ]
  },
  {
   "cell_type": "markdown",
   "id": "d60bda91-278f-4525-ba7e-a047eb473b52",
   "metadata": {},
   "source": [
    "Assignment Section 7 - Calculate Measures of Central Tendency - with Statistic Module"
   ]
  },
  {
   "cell_type": "code",
   "execution_count": 99,
   "id": "a2412997-383e-4d97-8b17-d471b7f0fed8",
   "metadata": {},
   "outputs": [],
   "source": [
    "import statistics"
   ]
  },
  {
   "cell_type": "code",
   "execution_count": 100,
   "id": "55d56125-11ed-4588-a4ac-056d8d204567",
   "metadata": {},
   "outputs": [],
   "source": [
    "values= [47, 95, 88, 73, 88, 84]"
   ]
  },
  {
   "cell_type": "code",
   "execution_count": 101,
   "id": "063f76ed-dd35-40e4-81e0-a24bd7b4892a",
   "metadata": {},
   "outputs": [
    {
     "data": {
      "text/plain": [
       "79.16666666666667"
      ]
     },
     "execution_count": 101,
     "metadata": {},
     "output_type": "execute_result"
    }
   ],
   "source": [
    "statistics.mean(values)"
   ]
  },
  {
   "cell_type": "code",
   "execution_count": 102,
   "id": "d72c734c-a76b-483d-8560-6d24d08dfc08",
   "metadata": {},
   "outputs": [
    {
     "data": {
      "text/plain": [
       "86.0"
      ]
     },
     "execution_count": 102,
     "metadata": {},
     "output_type": "execute_result"
    }
   ],
   "source": [
    "statistics.median(values)"
   ]
  },
  {
   "cell_type": "code",
   "execution_count": 103,
   "id": "b365bcd2-0f4a-4a17-9552-ea4e59c332b0",
   "metadata": {},
   "outputs": [
    {
     "data": {
      "text/plain": [
       "88"
      ]
     },
     "execution_count": 103,
     "metadata": {},
     "output_type": "execute_result"
    }
   ],
   "source": [
    "statistics.mode(values)"
   ]
  },
  {
   "cell_type": "markdown",
   "id": "aa83a726-d4f9-400e-a8df-9b326db9cae6",
   "metadata": {},
   "source": [
    "Assignment Section 8 - Custom Central Tendency"
   ]
  },
  {
   "cell_type": "code",
   "execution_count": 104,
   "id": "490c356b-71a5-4e49-ac8a-ebdb06ebdb00",
   "metadata": {},
   "outputs": [],
   "source": [
    "import statistics"
   ]
  },
  {
   "cell_type": "code",
   "execution_count": 105,
   "id": "31eb59e8-f583-45c0-ae9f-1be90cfb40c6",
   "metadata": {},
   "outputs": [],
   "source": [
    "values = [100, 90, 80, 70, 60, 50, 50, 40, 30, 20, 10]"
   ]
  },
  {
   "cell_type": "code",
   "execution_count": 106,
   "id": "0372a32d-fd0c-4686-8f5c-aec06891321e",
   "metadata": {},
   "outputs": [
    {
     "data": {
      "text/plain": [
       "11"
      ]
     },
     "execution_count": 106,
     "metadata": {},
     "output_type": "execute_result"
    }
   ],
   "source": [
    "len(values)"
   ]
  },
  {
   "cell_type": "code",
   "execution_count": 107,
   "id": "f5970125-86bb-4874-a0fd-6d902098db20",
   "metadata": {},
   "outputs": [
    {
     "data": {
      "text/plain": [
       "600"
      ]
     },
     "execution_count": 107,
     "metadata": {},
     "output_type": "execute_result"
    }
   ],
   "source": [
    "sum(values)"
   ]
  },
  {
   "cell_type": "code",
   "execution_count": 108,
   "id": "31e1e648-55c6-4064-ac30-08db78ebcbcd",
   "metadata": {},
   "outputs": [
    {
     "data": {
      "text/plain": [
       "54.54545454545455"
      ]
     },
     "execution_count": 108,
     "metadata": {},
     "output_type": "execute_result"
    }
   ],
   "source": [
    "statistics.mean(values)"
   ]
  },
  {
   "cell_type": "code",
   "execution_count": 109,
   "id": "8bd7e512-6de3-4191-a6a5-090798695271",
   "metadata": {},
   "outputs": [
    {
     "data": {
      "text/plain": [
       "50"
      ]
     },
     "execution_count": 109,
     "metadata": {},
     "output_type": "execute_result"
    }
   ],
   "source": [
    "statistics.median(values)"
   ]
  },
  {
   "cell_type": "code",
   "execution_count": 110,
   "id": "30ddc61f-2fb1-40ff-86de-0b590ba4d0ca",
   "metadata": {},
   "outputs": [
    {
     "data": {
      "text/plain": [
       "50"
      ]
     },
     "execution_count": 110,
     "metadata": {},
     "output_type": "execute_result"
    }
   ],
   "source": [
    "statistics.mode(values)"
   ]
  },
  {
   "cell_type": "markdown",
   "id": "dc910513-1b99-4a01-b113-cf3d8d5bdc53",
   "metadata": {},
   "source": [
    "Allen R Criger"
   ]
  },
  {
   "cell_type": "markdown",
   "id": "0ff7d005-86cc-432a-8a81-91d418d0d777",
   "metadata": {},
   "source": [
    "Count = 11; Sum = 600; Mean = 54.54; Median = 50; Mode = 50"
   ]
  }
 ],
 "metadata": {
  "kernelspec": {
   "display_name": "Python 3 (ipykernel)",
   "language": "python",
   "name": "python3"
  },
  "language_info": {
   "codemirror_mode": {
    "name": "ipython",
    "version": 3
   },
   "file_extension": ".py",
   "mimetype": "text/x-python",
   "name": "python",
   "nbconvert_exporter": "python",
   "pygments_lexer": "ipython3",
   "version": "3.9.7"
  }
 },
 "nbformat": 4,
 "nbformat_minor": 5
}
