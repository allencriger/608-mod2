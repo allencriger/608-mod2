{
 "cells": [
  {
   "cell_type": "markdown",
   "id": "422f600a-bb92-4f4d-9027-927bd66c7a2c",
   "metadata": {},
   "source": [
    "Allen R Criger"
   ]
  },
  {
   "cell_type": "markdown",
   "id": "65d7d2f9-8ffc-401b-ba24-7eae95750772",
   "metadata": {},
   "source": [
    "Module 2 - Assignment - Bonus"
   ]
  },
  {
   "cell_type": "markdown",
   "id": "cf6843ea-98fe-48bb-8ee7-a9ce8c78fb6c",
   "metadata": {},
   "source": [
    "Create a 100 data point set and calculate the len, sum, mean, median, mode"
   ]
  },
  {
   "cell_type": "code",
   "execution_count": 1,
   "id": "926e2813-024d-4886-aeaf-490746c8809f",
   "metadata": {},
   "outputs": [],
   "source": [
    "import statistics"
   ]
  },
  {
   "cell_type": "code",
   "execution_count": 2,
   "id": "d992f715-9307-49ac-b287-56ce4b856ce6",
   "metadata": {},
   "outputs": [],
   "source": [
    "numbers = [1, 2, 3, 4, 5, 6, 7, 8, 9, 10, 11, 12, 13, 14, 15, 16, 17, 18, 19, 20, 21, 22, 23, 24, 25, 26, 27, 28, 29, 30,\n",
    "          31, 32, 33, 34, 35, 36, 37, 38, 39, 40, 41, 42, 43, 44, 45, 46, 47, 48, 49, 50, 51, 52, 53, 54, 55, 56, 57, 58,\n",
    "          59, 60, 61, 62, 63, 64, 65, 66, 67, 68, 69, 70, 71, 72, 73, 74, 75, 76, 77, 78, 79, 80, 81, 82, 83, 84, 85, 86,\n",
    "          87, 88, 89, 90, 91, 92, 93, 94, 95, 96, 97, 98, 99, 100]"
   ]
  },
  {
   "cell_type": "code",
   "execution_count": 3,
   "id": "ec93dcf4-272f-497b-a6c9-518f73185ec9",
   "metadata": {},
   "outputs": [
    {
     "data": {
      "text/plain": [
       "100"
      ]
     },
     "execution_count": 3,
     "metadata": {},
     "output_type": "execute_result"
    }
   ],
   "source": [
    "len(numbers)"
   ]
  },
  {
   "cell_type": "code",
   "execution_count": 4,
   "id": "3066c3d3-6913-421d-a2f0-78022a4a6cfc",
   "metadata": {},
   "outputs": [
    {
     "data": {
      "text/plain": [
       "5050"
      ]
     },
     "execution_count": 4,
     "metadata": {},
     "output_type": "execute_result"
    }
   ],
   "source": [
    "sum(numbers)"
   ]
  },
  {
   "cell_type": "code",
   "execution_count": 5,
   "id": "d7d17ac5-2c22-4e83-badc-646bbd7a5b30",
   "metadata": {},
   "outputs": [
    {
     "data": {
      "text/plain": [
       "50.5"
      ]
     },
     "execution_count": 5,
     "metadata": {},
     "output_type": "execute_result"
    }
   ],
   "source": [
    "statistics.mean(numbers)"
   ]
  },
  {
   "cell_type": "code",
   "execution_count": 6,
   "id": "e0f91c9d-5c0c-48d0-b1dd-6d7fc5d8b0e9",
   "metadata": {},
   "outputs": [
    {
     "data": {
      "text/plain": [
       "50.5"
      ]
     },
     "execution_count": 6,
     "metadata": {},
     "output_type": "execute_result"
    }
   ],
   "source": [
    "statistics.median(numbers)"
   ]
  },
  {
   "cell_type": "code",
   "execution_count": 7,
   "id": "e8220ee1-8a7c-449a-9968-8702b2f8af7d",
   "metadata": {},
   "outputs": [
    {
     "data": {
      "text/plain": [
       "1"
      ]
     },
     "execution_count": 7,
     "metadata": {},
     "output_type": "execute_result"
    }
   ],
   "source": [
    "statistics.mode(numbers)"
   ]
  },
  {
   "cell_type": "code",
   "execution_count": null,
   "id": "299b3a31-ab02-4b29-80bf-8afa743f4d6a",
   "metadata": {},
   "outputs": [],
   "source": []
  },
  {
   "cell_type": "code",
   "execution_count": null,
   "id": "cc962432-5276-4fab-ba5e-5e8254eb03c3",
   "metadata": {},
   "outputs": [],
   "source": []
  }
 ],
 "metadata": {
  "kernelspec": {
   "display_name": "Python 3 (ipykernel)",
   "language": "python",
   "name": "python3"
  },
  "language_info": {
   "codemirror_mode": {
    "name": "ipython",
    "version": 3
   },
   "file_extension": ".py",
   "mimetype": "text/x-python",
   "name": "python",
   "nbconvert_exporter": "python",
   "pygments_lexer": "ipython3",
   "version": "3.9.7"
  }
 },
 "nbformat": 4,
 "nbformat_minor": 5
}
